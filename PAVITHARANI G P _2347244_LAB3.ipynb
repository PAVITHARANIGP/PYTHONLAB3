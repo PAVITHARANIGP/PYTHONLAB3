{
 "cells": [
  {
   "cell_type": "code",
   "execution_count": 7,
   "metadata": {},
   "outputs": [
    {
     "name": "stdout",
     "output_type": "stream",
     "text": [
      "{'Name': 'Pavi', 'Domain_name': 'Photography Prop Store', 'Regno': '2347244'}\n"
     ]
    }
   ],
   "source": [
    "# # Write a function in Python with a string such that it accepts a parameter- “stringsplit”.This encoded string will contain your name,\n",
    "# domain name and register number. You can separate the values in the string by any number of underscores. [The string should not contain \n",
    "# any other underscore symbols in your name, domain name and register number]. The function should return a Python dictionary \n",
    "# with your name, domain name and register number.\n",
    "\n",
    "def decode_string(stringsplit):\n",
    "    values = stringsplit.split('_')\n",
    "    decoded_dict = {\n",
    "        'Name': values[0],\n",
    "        'Domain_name': values[1],\n",
    "        'Regno': values[2]\n",
    "    }\n",
    "    return decoded_dict\n",
    "\n",
    "encoded_string = \"Pavi_Photography Prop Store_2347244\"\n",
    "decoded_data=decode_string(encoded_string)\n",
    "print(decoded_data)"
   ]
  },
  {
   "cell_type": "code",
   "execution_count": null,
   "metadata": {},
   "outputs": [],
   "source": []
  }
 ],
 "metadata": {
  "kernelspec": {
   "display_name": "Python 3",
   "language": "python",
   "name": "python3"
  },
  "language_info": {
   "codemirror_mode": {
    "name": "ipython",
    "version": 3
   },
   "file_extension": ".py",
   "mimetype": "text/x-python",
   "name": "python",
   "nbconvert_exporter": "python",
   "pygments_lexer": "ipython3",
   "version": "3.10.11"
  },
  "orig_nbformat": 4
 },
 "nbformat": 4,
 "nbformat_minor": 2
}
